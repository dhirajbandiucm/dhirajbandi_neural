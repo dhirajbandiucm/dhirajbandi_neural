{
  "nbformat": 4,
  "nbformat_minor": 0,
  "metadata": {
    "colab": {
      "provenance": []
    },
    "kernelspec": {
      "name": "python3",
      "display_name": "Python 3"
    },
    "language_info": {
      "name": "python"
    }
  },
  "cells": [
    {
      "cell_type": "code",
      "execution_count": 3,
      "metadata": {
        "id": "83rdNCs_1LSP"
      },
      "outputs": [],
      "source": [
        "# Dhiraj Bandi #700760856"
      ]
    },
    {
      "cell_type": "code",
      "source": [
        "#Question 1\n",
        "# Function to combine first name and last name into a full name\n",
        "def fullname(first_name, last_name):\n",
        "    # Combine first name and last name with a space in between\n",
        "    return first_name + \" \" + last_name\n",
        "\n",
        "# Function to return every other character in a string\n",
        "def string_alternative(full_name):\n",
        "    # Use string slicing to get every other character\n",
        "    return full_name[::2]\n",
        "\n",
        "def main():\n",
        "    # Take first name and last name as input from the user\n",
        "    first_name = input(\"Enter your first name: \")\n",
        "    last_name = input(\"Enter your last name: \")\n",
        "\n",
        "    # Get the full name by calling the fullname function\n",
        "    full_name = fullname(first_name, last_name)\n",
        "    print(f\"Full name: {full_name}\")\n",
        "\n",
        "    # Get the string with every other character by calling string_alternative function\n",
        "    alternative_string = string_alternative(full_name)\n",
        "    print(f\"String with every other character: {alternative_string}\")\n",
        "\n",
        "# Call the main function to run the program\n",
        "if __name__ == \"__main__\":\n",
        "    main()\n",
        ""
      ],
      "metadata": {
        "id": "Fvn-IoZn1Tv1",
        "colab": {
          "base_uri": "https://localhost:8080/"
        },
        "outputId": "daf8226c-8112-4626-c7a4-16a45c3386fb"
      },
      "execution_count": 4,
      "outputs": [
        {
          "output_type": "stream",
          "name": "stdout",
          "text": [
            "Enter your first name: Dhiraj\n",
            "Enter your last name: Bandi\n",
            "Full name: Dhiraj Bandi\n",
            "String with every other character: Dia ad\n"
          ]
        }
      ]
    },
    {
      "cell_type": "code",
      "source": [
        "# Mounting my google drive\n",
        "from google.colab import drive\n",
        "drive.mount('/content/drive')"
      ],
      "metadata": {
        "colab": {
          "base_uri": "https://localhost:8080/"
        },
        "id": "KaX-O0Z923UO",
        "outputId": "a9b9a7a4-7fa1-4d94-e720-4ed14da9168b"
      },
      "execution_count": 5,
      "outputs": [
        {
          "output_type": "stream",
          "name": "stdout",
          "text": [
            "Mounted at /content/drive\n"
          ]
        }
      ]
    },
    {
      "cell_type": "code",
      "source": [
        "#Question 2\n",
        "def word_count(filename):\n",
        "    # Dictionary to store word counts\n",
        "    word_counts = {}\n",
        "\n",
        "    try:\n",
        "        # Read the input file\n",
        "        with open('/content/drive/MyDrive/Colab Notebooks/' + filename, 'r') as file:\n",
        "            lines = file.readlines()\n",
        "\n",
        "        # Process each line\n",
        "        for line in lines:\n",
        "            # Remove leading/trailing whitespace and split line into words\n",
        "            words = line.strip().split()\n",
        "            for word in words:\n",
        "                # Increment word count in the dictionary\n",
        "                word_counts[word] = word_counts.get(word, 0) + 1\n",
        "\n",
        "        return lines, word_counts\n",
        "    except FileNotFoundError:\n",
        "        print(f\"The file {filename} was not found.\")\n",
        "        return [], {}\n",
        "\n",
        "def main():\n",
        "    input_filename = 'input.txt'\n",
        "    output_filename = 'output.txt'\n",
        "\n",
        "    # Get lines and word counts\n",
        "    lines, word_counts = word_count(input_filename)\n",
        "\n",
        "    # Print lines\n",
        "    for line in lines:\n",
        "        print(line.strip() + '\\n')\n",
        "\n",
        "    # Print word counts\n",
        "    print(\"Word_Count: \\n\")\n",
        "    for word, count in word_counts.items():\n",
        "        print(f\"{word}: {count}\")\n",
        "\n",
        "    # Write output to output.txt\n",
        "    with open('/content/drive/MyDrive/Colab Notebooks/' + output_filename, 'w') as file:\n",
        "        # Write lines\n",
        "        for line in lines:\n",
        "            file.write(line)\n",
        "\n",
        "        # Write word counts\n",
        "        file.write(\"Word_Count:\\n\")\n",
        "        for word, count in word_counts.items():\n",
        "            file.write(f\"{word}: {count}\\n\")\n",
        "\n",
        "if __name__ == \"__main__\":\n",
        "    main()\n"
      ],
      "metadata": {
        "colab": {
          "base_uri": "https://localhost:8080/"
        },
        "id": "Eo8KVlKC2Y0o",
        "outputId": "29eaa270-8ea0-4311-887b-87ce4a9f5d6b"
      },
      "execution_count": 14,
      "outputs": [
        {
          "output_type": "stream",
          "name": "stdout",
          "text": [
            "Python Course\n",
            "\n",
            "Deep Learning Course\n",
            "\n",
            "Word_Count: \n",
            "\n",
            "Python: 1\n",
            "Course: 2\n",
            "Deep: 1\n",
            "Learning: 1\n"
          ]
        }
      ]
    },
    {
      "cell_type": "code",
      "source": [
        "#Question 3\n",
        "#Task 1 using nested Interactive Loop.\n",
        "def convert_inches_to_cm(heights_in_inches):\n",
        "    # Create an empty list to store heights in centimeters\n",
        "    heights_in_cm = []\n",
        "\n",
        "    # Nested loop to convert each height\n",
        "    for i in range(len(heights_in_inches)):\n",
        "        # Convert the height from inches to centimeters (1 inch = 2.54 cm)\n",
        "        height_cm = heights_in_inches[i] * 2.54\n",
        "        # Append the converted height to the heights_in_cm list\n",
        "        heights_in_cm.append(round(height_cm, 2))\n",
        "\n",
        "    return heights_in_cm\n",
        "\n",
        "def main():\n",
        "    # Read heights from the user as a space-separated string\n",
        "    heights_input = input(\"Enter heights in inches (space-separated): \")\n",
        "\n",
        "    # Convert the input string to a list of integers\n",
        "    heights_in_inches = list(map(int, heights_input.split()))\n",
        "\n",
        "    # Convert the heights to centimeters using nested loop\n",
        "    heights_in_cm = convert_inches_to_cm(heights_in_inches)\n",
        "\n",
        "    print(\"Heights in centimeters:\", heights_in_cm)\n",
        "\n",
        "# Call the main function to run the program\n",
        "main()\n"
      ],
      "metadata": {
        "colab": {
          "base_uri": "https://localhost:8080/"
        },
        "id": "u47NuVZtD167",
        "outputId": "07e9fde1-5dc8-4c1a-a276-07db0df26cc3"
      },
      "execution_count": 15,
      "outputs": [
        {
          "output_type": "stream",
          "name": "stdout",
          "text": [
            "Enter heights in inches (space-separated): 150 155 145 148\n",
            "Heights in centimeters: [381.0, 393.7, 368.3, 375.92]\n"
          ]
        }
      ]
    },
    {
      "cell_type": "code",
      "source": [
        "#Question 3\n",
        "#Task 2 using List comprehensions\n",
        "def main():\n",
        "    # Read heights from the user as a space-separated string\n",
        "    heights_input = input(\"Enter heights in inches (space-separated): \")\n",
        "\n",
        "    # Convert the input string to a list of integers\n",
        "    heights_in_inches = list(map(int, heights_input.split()))\n",
        "\n",
        "    # Use list comprehension to convert heights to centimeters\n",
        "    heights_in_cm = [round(height * 2.54, 2) for height in heights_in_inches]\n",
        "\n",
        "    print(\"Heights in centimeters:\", heights_in_cm)\n",
        "\n",
        "# Call the main function to run the program\n",
        "main()\n"
      ],
      "metadata": {
        "colab": {
          "base_uri": "https://localhost:8080/"
        },
        "id": "J-iWJsAQE6ZP",
        "outputId": "30833dbc-2bd0-4079-f1c1-3d0a057bdaa9"
      },
      "execution_count": 17,
      "outputs": [
        {
          "output_type": "stream",
          "name": "stdout",
          "text": [
            "Enter heights in inches (space-separated): 68 70 65 67\n",
            "Heights in centimeters: [172.72, 177.8, 165.1, 170.18]\n"
          ]
        }
      ]
    }
  ]
}