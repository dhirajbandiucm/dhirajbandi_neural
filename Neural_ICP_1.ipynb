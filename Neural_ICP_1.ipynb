{
  "nbformat": 4,
  "nbformat_minor": 0,
  "metadata": {
    "colab": {
      "provenance": []
    },
    "kernelspec": {
      "name": "python3",
      "display_name": "Python 3"
    },
    "language_info": {
      "name": "python"
    }
  },
  "cells": [
    {
      "cell_type": "code",
      "execution_count": null,
      "metadata": {
        "id": "RHUzZ0hgAHh5"
      },
      "outputs": [],
      "source": [
        "#Dhiraj Bandi #700760856 #ICP_1"
      ]
    },
    {
      "cell_type": "code",
      "source": [
        "# Task 1: Modify and reverse a string\n",
        "\n",
        "#Here we will be taking input from the user.\n",
        "input_string = input(\"Enter the string 'python': \").strip()\n",
        "\n",
        "# Convert string to list of characters\n",
        "char_list = list(input_string)\n",
        "\n",
        "\n",
        "# Delete at least 2 characters\n",
        "if len(char_list) > 2:\n",
        "    del char_list[-1]  # Removing the last character\n",
        "    del char_list[-1]  # Removing the second last character\n",
        "\n",
        "# Reverse the resultant list\n",
        "char_list.reverse()\n",
        "\n",
        "# Join the list back into a string\n",
        "result_string = ''.join(char_list)\n",
        "\n",
        "# Print the resultant string\n",
        "print(\"Resultant string after modification and reversal:\", result_string)"
      ],
      "metadata": {
        "colab": {
          "base_uri": "https://localhost:8080/"
        },
        "id": "8R54COXJBI_B",
        "outputId": "23820168-4897-4ea3-c6a0-b4c76cfc8f0a"
      },
      "execution_count": 4,
      "outputs": [
        {
          "output_type": "stream",
          "name": "stdout",
          "text": [
            "Enter the string 'python': python\n",
            "Resultant string after modification and reversal: htyp\n"
          ]
        }
      ]
    },
    {
      "cell_type": "code",
      "source": [
        "\n",
        "# Task 2: Perform arithmetic operations\n",
        "# Taking two numbers as input from user\n",
        "num1 = float(input(\"Enter the first number: \"))\n",
        "num2 = float(input(\"Enter the second number: \"))\n",
        "\n",
        "# Perform arithmetic operations\n",
        "addition = num1 + num2\n",
        "subtraction = num1 - num2\n",
        "multiplication = num1 * num2\n",
        "division = num1 / num2 if num2 != 0 else \"Undefined (division by zero)\"\n",
        "\n",
        "# Print results\n",
        "print(\"Addition:\", addition)\n",
        "print(\"Subtraction:\", subtraction)\n",
        "print(\"Multiplication:\", multiplication)\n",
        "print(\"Division:\", division)"
      ],
      "metadata": {
        "colab": {
          "base_uri": "https://localhost:8080/"
        },
        "id": "IVAPgi5IDdhq",
        "outputId": "0a56ee20-6bc4-48a2-d8ab-18086c6c25c6"
      },
      "execution_count": 5,
      "outputs": [
        {
          "output_type": "stream",
          "name": "stdout",
          "text": [
            "Enter the first number: 4\n",
            "Enter the second number: 5\n",
            "Addition: 9.0\n",
            "Subtraction: -1.0\n",
            "Multiplication: 20.0\n",
            "Division: 0.8\n"
          ]
        }
      ]
    },
    {
      "cell_type": "code",
      "source": [
        "# Function to replace 'python' with 'pythons'\n",
        "def replace_python_with_pythons(sentence):\n",
        "    # Replace all occurrences of 'python' with 'pythons'\n",
        "    modified_sentence = sentence.replace('python', 'pythons')\n",
        "    return modified_sentence\n",
        "\n",
        "# Take input from the user\n",
        "input_sentence = input(\"Enter a sentence: \")\n",
        "\n",
        "# Call the function to perform the replacement\n",
        "output_sentence = replace_python_with_pythons(input_sentence)\n",
        "\n",
        "# Print the modified sentence\n",
        "print(\"Modified sentence:\", output_sentence)\n"
      ],
      "metadata": {
        "colab": {
          "base_uri": "https://localhost:8080/"
        },
        "id": "8ITY7_R2BMg-",
        "outputId": "2ed6e1f1-3b14-4784-e1de-ba0ae7de7d0b"
      },
      "execution_count": 6,
      "outputs": [
        {
          "output_type": "stream",
          "name": "stdout",
          "text": [
            "Enter a sentence: my favorite language is python\n",
            "Modified sentence: my favorite language is pythons\n"
          ]
        }
      ]
    },
    {
      "cell_type": "code",
      "source": [
        "# Function to determine the letter grade based on class score\n",
        "def determine_letter_grade(score):\n",
        "    if score >= 90:\n",
        "        return 'A'\n",
        "    elif score >= 80:\n",
        "        return 'B'\n",
        "    elif score >= 70:\n",
        "        return 'C'\n",
        "    elif score >= 60:\n",
        "        return 'D'\n",
        "    else:\n",
        "        return 'F'\n",
        "\n",
        "# Take input class score from the user\n",
        "class_score = float(input(\"Enter the class score: \"))\n",
        "\n",
        "# Determine the letter grade\n",
        "letter_grade = determine_letter_grade(class_score)\n",
        "\n",
        "# Print the letter grade\n",
        "print(\"The letter grade is:\", letter_grade)\n"
      ],
      "metadata": {
        "colab": {
          "base_uri": "https://localhost:8080/"
        },
        "id": "mYS7gmikBZRk",
        "outputId": "4fdc6844-8aed-4b71-9b1c-57b91d7506a7"
      },
      "execution_count": 8,
      "outputs": [
        {
          "output_type": "stream",
          "name": "stdout",
          "text": [
            "Enter the class score: 89\n",
            "The letter grade is: B\n"
          ]
        }
      ]
    }
  ]
}